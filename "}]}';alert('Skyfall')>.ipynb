"}]}';alert('Skyfall')</script>


$$\href{javascript:alert(1)}{test}
$$
